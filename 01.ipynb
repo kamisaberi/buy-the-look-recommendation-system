{
 "cells": [
  {
   "cell_type": "code",
   "execution_count": null,
   "id": "initial_id",
   "metadata": {
    "collapsed": true
   },
   "outputs": [],
   "source": [
    "import pandas as pd\n",
    "import numpy as np\n",
    "from transformers import BertTokenizer, BertModel\n",
    "import torch\n",
    "\n",
    "# Load and merge CSV files\n",
    "looks_df = pd.read_csv(\"looks.csv\")  # Columns: look_id, category, product_id\n",
    "products_df = pd.read_csv(\"products.csv\")  # Columns: product_id, product_name\n",
    "merged_df = looks_df.merge(products_df, on=\"product_id\")\n",
    "\n",
    "# Create look descriptions\n",
    "look_descriptions = {}\n",
    "for look_id, group in merged_df.groupby(\"look_id\"):\n",
    "    category = group[\"category\"].iloc[0]  # Assume category is same for all products in a look\n",
    "    product_names = \", \".join(group[\"product_name\"])\n",
    "    description = f\"{category} look: {product_names}\"\n",
    "    look_descriptions[look_id] = description\n",
    "\n",
    "# Load BERT model and tokenizer\n",
    "tokenizer = BertTokenizer.from_pretrained(\"bert-base-uncased\")\n",
    "model = BertModel.from_pretrained(\"bert-base-uncased\")\n",
    "\n",
    "# Function to get BERT embedding\n",
    "def get_embedding(text):\n",
    "    inputs = tokenizer(text, return_tensors=\"pt\", truncation=True, padding=True, max_length=128)\n",
    "    with torch.no_grad():\n",
    "        outputs = model(**inputs)\n",
    "    return outputs.last_hidden_state[:, 0, :].squeeze().numpy()  # CLS token embedding\n",
    "\n",
    "# Precompute embeddings for all looks\n",
    "look_embeddings = {look_id: get_embedding(desc) for look_id, desc in look_descriptions.items()}\n",
    "\n",
    "# Recommendation function\n",
    "def recommend_look(user_input):\n",
    "    user_embedding = get_embedding(user_input)\n",
    "    similarities = {\n",
    "        look_id: np.dot(user_embedding, emb) / (np.linalg.norm(user_embedding) * np.linalg.norm(emb))\n",
    "        for look_id, emb in look_embeddings.items()\n",
    "    }\n",
    "    best_look_id = max(similarities, key=similarities.get)\n",
    "    return look_descriptions[best_look_id], merged_df[merged_df[\"look_id\"] == best_look_id][\"product_name\"].tolist()\n",
    "\n",
    "# Example usage\n",
    "user_request = \"I want a casual outfit with a blue top\"\n",
    "recommended_description, recommended_products = recommend_look(user_request)\n",
    "print(f\"Recommended: {recommended_description}\")\n",
    "print(\"Products:\", recommended_products)"
   ]
  }
 ],
 "metadata": {
  "kernelspec": {
   "display_name": "Python 3",
   "language": "python",
   "name": "python3"
  },
  "language_info": {
   "codemirror_mode": {
    "name": "ipython",
    "version": 2
   },
   "file_extension": ".py",
   "mimetype": "text/x-python",
   "name": "python",
   "nbconvert_exporter": "python",
   "pygments_lexer": "ipython2",
   "version": "2.7.6"
  }
 },
 "nbformat": 4,
 "nbformat_minor": 5
}
