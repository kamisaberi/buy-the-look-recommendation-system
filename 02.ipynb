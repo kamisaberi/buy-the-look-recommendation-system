{
 "cells": [
  {
   "cell_type": "code",
   "execution_count": null,
   "id": "initial_id",
   "metadata": {
    "collapsed": true
   },
   "outputs": [],
   "source": [
    "from sentence_transformers import SentenceTransformer\n",
    "import numpy as np\n",
    "from sklearn.metrics.pairwise import cosine_similarity\n",
    "\n",
    "# Load model\n",
    "model = SentenceTransformer('paraphrase-MiniLM-L6-v2')\n",
    "\n",
    "# Assume look_descriptions is a dictionary {look_id: description}\n",
    "look_embeddings = {look_id: model.encode(desc) for look_id, desc in look_descriptions.items()}\n",
    "\n",
    "def recommend_look(user_input):\n",
    "    user_embedding = model.encode(user_input)\n",
    "    similarities = {look_id: cosine_similarity([user_embedding], [emb])[0][0] for look_id, emb in look_embeddings.items()}\n",
    "    best_look_id = max(similarities, key=similarities.get)\n",
    "    return look_descriptions[best_look_id], merged_df[merged_df[\"look_id\"] == best_look_id][\"product_name\"].tolist()\n",
    "\n",
    "# Example usage\n",
    "user_request = \"I want a casual outfit with a blue top\"\n",
    "recommended_description, recommended_products = recommend_look(user_request)\n",
    "print(f\"Recommended: {recommended_description}\")\n",
    "print(\"Products:\", recommended_products)"
   ]
  }
 ],
 "metadata": {
  "kernelspec": {
   "display_name": "Python 3",
   "language": "python",
   "name": "python3"
  },
  "language_info": {
   "codemirror_mode": {
    "name": "ipython",
    "version": 2
   },
   "file_extension": ".py",
   "mimetype": "text/x-python",
   "name": "python",
   "nbconvert_exporter": "python",
   "pygments_lexer": "ipython2",
   "version": "2.7.6"
  }
 },
 "nbformat": 4,
 "nbformat_minor": 5
}
