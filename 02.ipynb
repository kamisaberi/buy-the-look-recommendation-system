{
 "cells": [
  {
   "cell_type": "code",
   "id": "initial_id",
   "metadata": {
    "collapsed": true,
    "ExecuteTime": {
     "end_time": "2025-04-11T21:55:17.356009Z",
     "start_time": "2025-04-11T21:54:25.541590Z"
    }
   },
   "source": [
    "import pandas as pd\n",
    "import numpy as np\n",
    "from sentence_transformers import SentenceTransformer\n",
    "from sklearn.metrics.pairwise import cosine_similarity\n",
    "\n",
    "# ----------------------\n",
    "# 1. Data Preparation\n",
    "# ----------------------\n",
    "# Load CSV files\n",
    "looks_df = pd.read_csv('looks.csv')  # Columns: look_id, category, product_id\n",
    "products_df = pd.read_csv('products.csv')  # Columns: product_id, product_name\n",
    "\n",
    "# Merge dataframes\n",
    "merged_df = pd.merge(looks_df, products_df, on='product_id', how='left')\n",
    "\n",
    "# Create look descriptions\n",
    "look_descriptions = {}\n",
    "for look_id, group in merged_df.groupby('look_id'):\n",
    "    category = group['category'].iloc[0]  # Assume category is consistent per look\n",
    "    product_names = ', '.join(group['product_name'].dropna())\n",
    "    look_descriptions[look_id] = f\"{category} look: {product_names}\"\n",
    "\n",
    "# ----------------------\n",
    "# 2. Generate Embeddings\n",
    "# ----------------------\n",
    "# Load model\n",
    "model = SentenceTransformer('paraphrase-MiniLM-L6-v2')\n",
    "\n",
    "# Generate embeddings for look descriptions\n",
    "look_embeddings = {look_id: model.encode(desc, convert_to_numpy=True) for look_id, desc in look_descriptions.items()}\n",
    "\n",
    "# ----------------------\n",
    "# 3. Recommendation Function\n",
    "# ----------------------\n",
    "def recommend_look(user_input):\n",
    "    # Validate input\n",
    "    if not user_input or not isinstance(user_input, str) or user_input.strip() == '':\n",
    "        return \"Error: Please provide a valid input.\", []\n",
    "\n",
    "    # Encode user input\n",
    "    try:\n",
    "        user_embedding = model.encode(user_input, convert_to_numpy=True)\n",
    "    except Exception as e:\n",
    "        return f\"Error encoding input: {str(e)}\", []\n",
    "\n",
    "    # Compute cosine similarities efficiently\n",
    "    look_ids = list(look_embeddings.keys())\n",
    "    embeddings = np.stack(list(look_embeddings.values()))\n",
    "    similarities = cosine_similarity([user_embedding], embeddings)[0]\n",
    "\n",
    "    # Find the best look\n",
    "    best_idx = np.argmax(similarities)\n",
    "    best_look_id = look_ids[best_idx]\n",
    "\n",
    "    # Retrieve description and products\n",
    "    description = look_descriptions.get(best_look_id, \"No description available\")\n",
    "    products = merged_df[merged_df['look_id'] == best_look_id]['product_name'].dropna().tolist()\n",
    "\n",
    "    if not products:\n",
    "        return description, [\"No products found for this look.\"]\n",
    "\n",
    "    return description, products\n",
    "\n",
    "# ----------------------\n",
    "# 4. Example Usage\n",
    "# ----------------------\n",
    "if __name__ == \"__main__\":\n",
    "    # Example query\n",
    "    user_request = \"I want a casual outfit with a blue top\"\n",
    "\n",
    "    # Get recommendation\n",
    "    recommended_description, recommended_products = recommend_look(user_request)\n",
    "\n",
    "    # Print results\n",
    "    print(f\"Recommended: {recommended_description}\")\n",
    "    print(\"Products:\", recommended_products)"
   ],
   "outputs": [
    {
     "data": {
      "text/plain": [
       "modules.json:   0%|          | 0.00/229 [00:00<?, ?B/s]"
      ],
      "application/vnd.jupyter.widget-view+json": {
       "version_major": 2,
       "version_minor": 0,
       "model_id": "f0057d1609d744fdab028f604f8dc7b5"
      }
     },
     "metadata": {},
     "output_type": "display_data"
    },
    {
     "name": "stderr",
     "output_type": "stream",
     "text": [
      "E:\\VENV\\cuda313\\Lib\\site-packages\\huggingface_hub\\file_download.py:144: UserWarning: `huggingface_hub` cache-system uses symlinks by default to efficiently store duplicated files but your machine does not support them in C:\\Users\\kami\\.cache\\huggingface\\hub\\models--sentence-transformers--paraphrase-MiniLM-L6-v2. Caching files will still work but in a degraded version that might require more space on your disk. This warning can be disabled by setting the `HF_HUB_DISABLE_SYMLINKS_WARNING` environment variable. For more details, see https://huggingface.co/docs/huggingface_hub/how-to-cache#limitations.\n",
      "To support symlinks on Windows, you either need to activate Developer Mode or to run Python as an administrator. In order to activate developer mode, see this article: https://docs.microsoft.com/en-us/windows/apps/get-started/enable-your-device-for-development\n",
      "  warnings.warn(message)\n"
     ]
    },
    {
     "data": {
      "text/plain": [
       "config_sentence_transformers.json:   0%|          | 0.00/122 [00:00<?, ?B/s]"
      ],
      "application/vnd.jupyter.widget-view+json": {
       "version_major": 2,
       "version_minor": 0,
       "model_id": "7e86b24f2a6449cab2fbe9c70fbe7032"
      }
     },
     "metadata": {},
     "output_type": "display_data"
    },
    {
     "data": {
      "text/plain": [
       "README.md:   0%|          | 0.00/3.51k [00:00<?, ?B/s]"
      ],
      "application/vnd.jupyter.widget-view+json": {
       "version_major": 2,
       "version_minor": 0,
       "model_id": "bb7385faabc3431e81fbb5db4ce6de64"
      }
     },
     "metadata": {},
     "output_type": "display_data"
    },
    {
     "data": {
      "text/plain": [
       "sentence_bert_config.json:   0%|          | 0.00/53.0 [00:00<?, ?B/s]"
      ],
      "application/vnd.jupyter.widget-view+json": {
       "version_major": 2,
       "version_minor": 0,
       "model_id": "4e5ecfb5d37f42b59a8a2143581970b1"
      }
     },
     "metadata": {},
     "output_type": "display_data"
    },
    {
     "data": {
      "text/plain": [
       "config.json:   0%|          | 0.00/629 [00:00<?, ?B/s]"
      ],
      "application/vnd.jupyter.widget-view+json": {
       "version_major": 2,
       "version_minor": 0,
       "model_id": "18f940bdb1b24b6ea8054ba86e6fd5df"
      }
     },
     "metadata": {},
     "output_type": "display_data"
    },
    {
     "name": "stderr",
     "output_type": "stream",
     "text": [
      "Xet Storage is enabled for this repo, but the 'hf_xet' package is not installed. Falling back to regular HTTP download. For better performance, install the package with: `pip install huggingface_hub[hf_xet]` or `pip install hf_xet`\n"
     ]
    },
    {
     "data": {
      "text/plain": [
       "model.safetensors:   0%|          | 0.00/90.9M [00:00<?, ?B/s]"
      ],
      "application/vnd.jupyter.widget-view+json": {
       "version_major": 2,
       "version_minor": 0,
       "model_id": "6e84fa59695d49e88afe57b17dd78ff6"
      }
     },
     "metadata": {},
     "output_type": "display_data"
    },
    {
     "data": {
      "text/plain": [
       "tokenizer_config.json:   0%|          | 0.00/314 [00:00<?, ?B/s]"
      ],
      "application/vnd.jupyter.widget-view+json": {
       "version_major": 2,
       "version_minor": 0,
       "model_id": "4345d7d7d3554cb8a6679bd9c040d9a7"
      }
     },
     "metadata": {},
     "output_type": "display_data"
    },
    {
     "data": {
      "text/plain": [
       "vocab.txt:   0%|          | 0.00/232k [00:00<?, ?B/s]"
      ],
      "application/vnd.jupyter.widget-view+json": {
       "version_major": 2,
       "version_minor": 0,
       "model_id": "152f6e67016b468abfc0b320e656e29d"
      }
     },
     "metadata": {},
     "output_type": "display_data"
    },
    {
     "data": {
      "text/plain": [
       "tokenizer.json:   0%|          | 0.00/466k [00:00<?, ?B/s]"
      ],
      "application/vnd.jupyter.widget-view+json": {
       "version_major": 2,
       "version_minor": 0,
       "model_id": "d4be870e211348a2a664d073060759c1"
      }
     },
     "metadata": {},
     "output_type": "display_data"
    },
    {
     "data": {
      "text/plain": [
       "special_tokens_map.json:   0%|          | 0.00/112 [00:00<?, ?B/s]"
      ],
      "application/vnd.jupyter.widget-view+json": {
       "version_major": 2,
       "version_minor": 0,
       "model_id": "d42b3b33e9d840c69862b2b841841ce9"
      }
     },
     "metadata": {},
     "output_type": "display_data"
    },
    {
     "data": {
      "text/plain": [
       "config.json:   0%|          | 0.00/190 [00:00<?, ?B/s]"
      ],
      "application/vnd.jupyter.widget-view+json": {
       "version_major": 2,
       "version_minor": 0,
       "model_id": "0f435444b7384edcb2db95421f6abb6c"
      }
     },
     "metadata": {},
     "output_type": "display_data"
    },
    {
     "name": "stdout",
     "output_type": "stream",
     "text": [
      "Recommended: formal look: blue nylon slim-fit dress shirt, blue skirt, brown denim oversized heels\n",
      "Products: ['blue nylon slim-fit dress shirt', 'blue skirt', 'brown denim oversized heels']\n"
     ]
    }
   ],
   "execution_count": 1
  },
  {
   "metadata": {},
   "cell_type": "code",
   "outputs": [],
   "execution_count": null,
   "source": "",
   "id": "65edcb1085d2cc61"
  }
 ],
 "metadata": {
  "kernelspec": {
   "display_name": "Python 3",
   "language": "python",
   "name": "python3"
  },
  "language_info": {
   "codemirror_mode": {
    "name": "ipython",
    "version": 2
   },
   "file_extension": ".py",
   "mimetype": "text/x-python",
   "name": "python",
   "nbconvert_exporter": "python",
   "pygments_lexer": "ipython2",
   "version": "2.7.6"
  }
 },
 "nbformat": 4,
 "nbformat_minor": 5
}
